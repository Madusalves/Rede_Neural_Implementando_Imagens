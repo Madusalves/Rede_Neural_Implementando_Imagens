{
  "nbformat": 4,
  "nbformat_minor": 0,
  "metadata": {
    "colab": {
      "provenance": [],
      "authorship_tag": "ABX9TyMI/9tIwfRmYNh0pqucNriH",
      "include_colab_link": true
    },
    "kernelspec": {
      "name": "python3",
      "display_name": "Python 3"
    },
    "language_info": {
      "name": "python"
    }
  },
  "cells": [
    {
      "cell_type": "markdown",
      "metadata": {
        "id": "view-in-github",
        "colab_type": "text"
      },
      "source": [
        "<a href=\"https://colab.research.google.com/github/Madusalves/Rede_Neural_Implementando_Imagens/blob/main/Rede_Neural.ipynb\" target=\"_parent\"><img src=\"https://colab.research.google.com/assets/colab-badge.svg\" alt=\"Open In Colab\"/></a>"
      ]
    },
    {
      "cell_type": "code",
      "execution_count": 17,
      "metadata": {
        "id": "5N9mjcmDh9sM"
      },
      "outputs": [],
      "source": [
        "# Implementando uma deep learning com uso de imagens\n",
        "\n",
        "import numpy as np\n",
        "import torch\n",
        "import torch.nn.functional as F\n",
        "import torchvision\n",
        "import matplotlib.pyplot as plt\n",
        "from time import time\n",
        "from torchvision import datasets, transforms\n",
        "from torch import nn, optim"
      ]
    },
    {
      "cell_type": "code",
      "source": [
        "transform = transforms.ToTensor()  # Definindo a conversao de imagem pra tensor\n",
        "\n",
        "trainset = datasets.MNIST('./MNIST_data/', download=True, train=True, transform=transform) # Carrega a parte do treino do dataset\n",
        "trainloader = torch.utils.data.DataLoader(trainset, batch_size=64, shuffle=True) # Cria um buffer para pegar dados por partes\n",
        "\n",
        "valset = datasets.MNIST('./MNIST_data/', download=True, train=True, transform=transform ) # Carrega parte da validação\n",
        "valloader = torch.utils.data.DataLoader(trainset, batch_size=64, shuffle=True) # Cria um buffer para pegar os dados por partes\n"
      ],
      "metadata": {
        "id": "7G2LKXUMij8p"
      },
      "execution_count": 18,
      "outputs": []
    },
    {
      "cell_type": "markdown",
      "source": [
        " MNIST é um grande banco de dados de dígitos manuscritos, comumente usado para treinar vários sistemas de processamento de imagens."
      ],
      "metadata": {
        "id": "Muxmt8oKmFwL"
      }
    },
    {
      "cell_type": "code",
      "source": [
        "dataiter = iter(trainloader) # Cria um iterador para treinar o tensor\n",
        "imagens, etiquetas = next(dataiter) # Armazena duas variaveis para a imagem\n",
        "plt.imshow(imagens[0].numpy().squeeze(), cmap='gray_r') # Dropa a imagem"
      ],
      "metadata": {
        "colab": {
          "base_uri": "https://localhost:8080/",
          "height": 447
        },
        "id": "rbOgsc-jmHo5",
        "outputId": "7ef2b394-ccb4-4ab0-ae49-be8498a25c5d"
      },
      "execution_count": 19,
      "outputs": [
        {
          "output_type": "execute_result",
          "data": {
            "text/plain": [
              "<matplotlib.image.AxesImage at 0x7bf91cc30130>"
            ]
          },
          "metadata": {},
          "execution_count": 19
        },
        {
          "output_type": "display_data",
          "data": {
            "text/plain": [
              "<Figure size 640x480 with 1 Axes>"
            ],
            "image/png": "[encoded data removed]"
          },
          "metadata": {}
        }
      ]
    },
    {
      "cell_type": "code",
      "source": [
        "print(imagens[0].shape) # verifica as dimensões do tensor de cada imagem\n",
        "print(etiquetas[0].shape) # verifica as dimensões do tensor de cada etiqueta"
      ],
      "metadata": {
        "colab": {
          "base_uri": "https://localhost:8080/"
        },
        "id": "dZIA1uXPnnk3",
        "outputId": "df68ab17-bc65-4141-be3d-8c30b2bfbe77"
      },
      "execution_count": 20,
      "outputs": [
        {
          "output_type": "stream",
          "name": "stdout",
          "text": [
            "torch.Size([1, 28, 28])\n",
            "torch.Size([])\n"
          ]
        }
      ]
    },
    {
      "cell_type": "code",
      "source": [
        "class Modelo(nn.Module):  # Classe modelo para criar o esqueleto\n",
        "    def __init__(self):\n",
        "        super(Modelo, self).__init__()\n",
        "        self.linear1 = nn.Linear(28*28, 128) # camada de entrada, 784 neuronios que se liagam a 128\n",
        "        self.linear2 = nn.Linear(128, 64) # camada interna 1, 128 neuroniosque se ligam a 64\n",
        "        self.linear3 = nn.Linear(64, 10) # camada interna 2, 64 neuronios que se ligam a 10\n",
        "        # para a camadade saida nao é necessario definir nada pois so precisamos pegar o output da camada interna 2\n",
        "\n",
        "    def forward(self, x):\n",
        "        x = F.relu(self.linear1(x)) # função de ativação da camada de entrada para a camada interna 1\n",
        "        x = F.relu(self.linear2(x)) # função de ativação da camada interna 1 para a cmada interna 2\n",
        "        x = self.liner3(x) # função de ativação da camada interna 2 para camada de saida, nesse caso f(x) = x\n",
        "        return F.log_softmax(x, dim=1) # dados utilizados para calcular a perda"
      ],
      "metadata": {
        "id": "KaDkCZCBosyO"
      },
      "execution_count": 21,
      "outputs": []
    },
    {
      "cell_type": "code",
      "source": [
        "def treino(modelo, trainloader, device):\n",
        "  otimizador = optim.SGD(modelo.parameters(), lr=0.01, momentum=0.5) # define a politica de atualização dos pesos e das bias\n",
        "  inicio = time() # timer para sabermos quanto tempo levou\n",
        "\n",
        "  criterio = nn.NLLLoss() # definindo o criterio para calcular a perda\n",
        "  EPOCHS = 10 # numero de epocas que o algoritimo rodará\n",
        "  modelo.train() # ativando o modo de treinamento do modelo\n",
        "\n",
        "  for epoch in range(EPOCHS):\n",
        "    perda_acumulada = 0 # inicializando a perda acumulada da epoch em questao\n",
        "\n",
        "    for imagens, etiquetas in trainloader:\n",
        "      imagens = imagens.view(imagens.shape[0], -1) # convertendo imagens para vetores de 28*28\n",
        "      otimizador.zero_grad() # zerando os gradientes por conta do ciclo anterior\n",
        "\n",
        "      output = modelo(imagens.to(device)) # colocando os dados do modelo\n",
        "      perda_instantanea = criterio(output, etiquetas.to(device)) # calculando a perda da epoch em questao\n",
        "\n",
        "      perda_instantanea.backward() # back propagation a partir da perda\n",
        "\n",
        "      otimizador.step() # atualizando os pesos e as bias\n",
        "\n",
        "      perda_acumulada += perda_instantanea.item() # atualização da perda acumulada\n",
        "\n",
        "    else:\n",
        "      print('Epoch {} - Perda resultante: {}'.format(epoch+1, perda_acumulada/len(trainloader)))\n",
        "  print(\"\\nTempo de treino (em minutos) = \", (time()-inicio)/60)"
      ],
      "metadata": {
        "id": "jERFiDQyt_Gy"
      },
      "execution_count": 22,
      "outputs": []
    },
    {
      "cell_type": "code",
      "source": [
        "def validacao(modelo,valloader, device):\n",
        "  conta_corretas, conta_todas = 0, 0\n",
        "  for imagens, etiquetas in valloader:\n",
        "    for i in range(len(etiquetas)):\n",
        "      img = imagens[i].view(1, 784)\n",
        "      #desativa  autograd para acelerar a validaçao. grafos computacionais dinamicos tem um custo alto de processamento\n",
        "      with torch.no_grad():\n",
        "        logps = modelo(img.to(device)) # outpu do modelo em escala logaritma\n",
        "\n",
        "        ps = torch.exp(logps) # converte output para escala normal\n",
        "        probab = list(ps.cpu().numpy()[0])\n",
        "        etiqueta_pred = probab.index(max(probab)) # converte o tensor em um numero\n",
        "        etiqueta_certa = etiquetas.numpy()[i]\n",
        "        if(etiqueta_certa == etiqueta_pred):\n",
        "          conta_corretas += 1\n",
        "        conta_todas\n",
        "    print('Total de imagens testadas = ', conta_todas)\n",
        "    print('\\nPrecisão do modelo = {}%'.format(conta_corretas*100/conta_todas))"
      ],
      "metadata": {
        "id": "QCKvjCTPw5ka"
      },
      "execution_count": 23,
      "outputs": []
    },
    {
      "cell_type": "code",
      "source": [
        "modelo = Modulo()\n",
        "device = torch.device('cuda' if torch.cuda.is_available() else 'cpu')\n",
        "modelo.to(device)"
      ],
      "metadata": {
        "colab": {
          "base_uri": "https://localhost:8080/",
          "height": 35
        },
        "id": "k_n9eerD7M2n",
        "outputId": "0996d191-1d90-452b-b823-6b38fac9de99"
      },
      "execution_count": 24,
      "outputs": [
        {
          "output_type": "execute_result",
          "data": {
            "text/plain": [
              "\" modelo = Module()\\ndevice = torch.device('cuda' if torch.cuda.is_available() else 'cpu')\\nmodelo.to(device) \""
            ],
            "application/vnd.google.colaboratory.intrinsic+json": {
              "type": "string"
            }
          },
          "metadata": {},
          "execution_count": 24
        }
      ]
    }
  ]
}